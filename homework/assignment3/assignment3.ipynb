{
 "cells": [
  {
   "cell_type": "markdown",
   "id": "403d78f3",
   "metadata": {},
   "source": [
    "# Answer"
   ]
  },
  {
   "cell_type": "code",
   "execution_count": 3,
   "id": "5ae34b97",
   "metadata": {},
   "outputs": [
    {
     "name": "stderr",
     "output_type": "stream",
     "text": [
      "C:\\Users\\brean\\AppData\\Local\\Temp\\ipykernel_17664\\1676579250.py:2: DeprecationWarning: \n",
      "Pyarrow will become a required dependency of pandas in the next major release of pandas (pandas 3.0),\n",
      "(to allow more performant data types, such as the Arrow string type, and better interoperability with other libraries)\n",
      "but was not found to be installed on your system.\n",
      "If this would cause problems for you,\n",
      "please provide us feedback at https://github.com/pandas-dev/pandas/issues/54466\n",
      "        \n",
      "  import pandas as pd\n"
     ]
    }
   ],
   "source": [
    "import numpy as np\n",
    "import pandas as pd\n",
    "from sklearn.linear_model import LinearRegression"
   ]
  },
  {
   "cell_type": "code",
   "execution_count": 24,
   "id": "1e9c5668",
   "metadata": {},
   "outputs": [],
   "source": [
    "df = pd.read_csv(\"linear_regression_test_data.csv\")\n",
    "\n"
   ]
  },
  {
   "cell_type": "code",
   "execution_count": 23,
   "id": "981fe68f",
   "metadata": {},
   "outputs": [
    {
     "name": "stdout",
     "output_type": "stream",
     "text": [
      "intercept (b0): 0.024525025871305117\n",
      "coefficent (b1): 1.934005885001058\n"
     ]
    }
   ],
   "source": [
    "reg = LinearRegression().fit(df[\"x\"].to_numpy().reshape(-1,1), df[\"y\"])\n",
    "\n",
    "\n",
    "print(f\"intercept (b0): {reg.intercept_}\\ncoefficent (b1): {reg.coef_[0]}\")\n",
    "\n"
   ]
  },
  {
   "cell_type": "markdown",
   "id": "506136ee",
   "metadata": {},
   "source": [
    "# Analytical Soultion\n",
    "\n",
    "$y = B_0x+B_1$"
   ]
  },
  {
   "cell_type": "code",
   "execution_count": null,
   "id": "65c42217",
   "metadata": {},
   "outputs": [],
   "source": [
    "df = pd.read_csv(\"linear_regression_test_data.csv\")\n"
   ]
  },
  {
   "cell_type": "code",
   "execution_count": 33,
   "id": "69db9590",
   "metadata": {},
   "outputs": [
    {
     "name": "stdout",
     "output_type": "stream",
     "text": [
      "the intercept (b0): 0.024525025871305006\n",
      "the coefficent (b1): 1.9340058850010584\n"
     ]
    }
   ],
   "source": [
    "\n",
    "Sxy = sum( (df[\"x\"]-df[\"x\"].mean()) * (df[\"y\"]-df[\"y\"].mean()) )\n",
    "Sxx = sum( (df[\"x\"]-df[\"x\"].mean())**2 )\n",
    "\n",
    "b1 = Sxy/Sxx\n",
    "\n",
    "b0 = df[\"y\"].mean() - b1*(df[\"x\"].mean())\n",
    "\n",
    "print(f\"the intercept (b0): {b0}\")\n",
    "print(f\"the coefficent (b1): {b1}\")\n",
    "\n"
   ]
  },
  {
   "cell_type": "markdown",
   "id": "22c205eb",
   "metadata": {},
   "source": [
    "# Numerical Solution\n",
    "\n",
    "$B_0$ is the intercept<br>\n",
    "$B_1$ is the coefficent<br>\n",
    "$J(b_0,b_1) = \\sum (B_0+B_1x_i - y_i)^2$\n",
    "\n",
    "${∂J \\over ∂B_0}  = 2 \\sum (B_0+B_1x_i - y_i) $<br><br>\n",
    "${∂J \\over ∂B_1} = 2 \\sum x_i(B_0+B_1x_i - y_i)$"
   ]
  },
  {
   "cell_type": "code",
   "execution_count": 77,
   "id": "f8271b28",
   "metadata": {},
   "outputs": [
    {
     "name": "stdout",
     "output_type": "stream",
     "text": [
      "_____________________epoch: 0___________________________\n",
      "error: 106.65169600573958\n",
      "B0: 0.26217402727165995\n",
      "B1: 1.0278259866447836\n",
      "_____________________epoch: 1___________________________\n",
      "error: 27.01093919724731\n",
      "B0: 0.28535977486570174\n",
      "B1: 1.4769048793242772\n",
      "_____________________epoch: 2___________________________\n",
      "error: 12.27884688430842\n",
      "B0: 0.24067194295927044\n",
      "B1: 1.6850387681170844\n",
      "_____________________epoch: 3___________________________\n",
      "error: 8.813275280044751\n",
      "B0: 0.18670032737108153\n",
      "B1: 1.7887356708214828\n",
      "_____________________epoch: 4___________________________\n",
      "error: 7.7167510707108935\n",
      "B0: 0.1407861856924152\n",
      "B1: 1.8445371529423598\n",
      "_____________________epoch: 5___________________________\n",
      "error: 7.285773753342785\n",
      "B0: 0.10595629255326368\n",
      "B1: 1.8767665457432061\n",
      "_____________________epoch: 6___________________________\n",
      "error: 7.097718584194283\n",
      "B0: 0.08085281671082335\n",
      "B1: 1.8964658552984253\n",
      "_____________________epoch: 7___________________________\n",
      "error: 7.012324328650133\n",
      "B0: 0.0632202132309711\n",
      "B1: 1.9090042733770134\n",
      "_____________________epoch: 8___________________________\n",
      "error: 6.973010053384363\n",
      "B0: 0.05100454156515516\n",
      "B1: 1.9172007441404462\n",
      "_____________________epoch: 9___________________________\n",
      "error: 6.954827152280926\n",
      "B0: 0.042605599789959175\n",
      "B1: 1.922648764522466\n",
      "_____________________epoch: 10___________________________\n",
      "error: 6.946404840912594\n",
      "B0: 0.03685533497083965\n",
      "B1: 1.9263064121697835\n",
      "_____________________epoch: 11___________________________\n",
      "error: 6.942501700901747\n",
      "B0: 0.032927897980099874\n",
      "B1: 1.9287765969795487\n",
      "_____________________epoch: 12___________________________\n",
      "error: 6.940692581461478\n",
      "B0: 0.030249107003737855\n",
      "B1: 1.9304505736421087\n",
      "_____________________epoch: 13___________________________\n",
      "error: 6.939854003703466\n",
      "B0: 0.028423399021168604\n",
      "B1: 1.931587235921669\n",
      "_____________________epoch: 14___________________________\n",
      "error: 6.939465292590249\n",
      "B0: 0.027179653763225443\n",
      "B1: 1.9323599331942478\n",
      "_____________________epoch: 15___________________________\n",
      "error: 6.9392851099134125\n",
      "B0: 0.026332579103700685\n",
      "B1: 1.9328855531472664\n",
      "_____________________epoch: 16___________________________\n",
      "error: 6.939201588099758\n",
      "B0: 0.025755747359131487\n",
      "B1: 1.9332432353556672\n",
      "_____________________epoch: 17___________________________\n",
      "error: 6.939162872404646\n",
      "B0: 0.025362975176804303\n",
      "B1: 1.9334866889391904\n",
      "_____________________epoch: 18___________________________\n",
      "error: 6.939144926130736\n",
      "B0: 0.02509554416455422\n",
      "B1: 1.9336524140879394\n"
     ]
    }
   ],
   "source": [
    "vecb = {\"B0\": 0, \"B1\": 0}\n",
    "LEARNING_RATE = 0.01\n",
    "EPOCHS = 1000\n",
    "X = df[\"x\"]\n",
    "Y = df[\"y\"]\n",
    "\n",
    "# def error(vecb: dict, x,y):\n",
    "error = 0\n",
    "\n",
    "for _ in range(EPOCHS):\n",
    "    \n",
    "    error_old = error\n",
    "    error = sum([ (vecb[\"B0\"] + vecb[\"B1\"]*X[i] - Y[i])**2 for i in range(len(X))])\n",
    "\n",
    "    \n",
    "\n",
    "    if abs(error - error_old) > 0.00001:\n",
    "        print(f\"_____________________epoch: {_}___________________________\")\n",
    "        print(f\"error: {error}\")\n",
    "        temp_b0 = vecb[\"B0\"]-LEARNING_RATE * (2*sum([ (vecb[\"B0\"] + vecb[\"B1\"]*X[i] - Y[i]) for i in range(len(X))]))\n",
    "        temp_b1 = vecb[\"B1\"]-LEARNING_RATE * (2*sum([ X[i]*(vecb[\"B0\"] + vecb[\"B1\"]*X[i] - Y[i]) for i in range(len(X))]))\n",
    "        vecb[\"B0\"] = temp_b0\n",
    "        vecb[\"B1\"] = temp_b1\n",
    "        print(f\"B0: {vecb[\"B0\"]}\\nB1: {vecb[\"B1\"]}\")\n",
    "\n",
    "    else: break\n",
    "\n",
    "        "
   ]
  },
  {
   "cell_type": "code",
   "execution_count": 84,
   "id": "7f8c8d70",
   "metadata": {},
   "outputs": [
    {
     "name": "stdout",
     "output_type": "stream",
     "text": [
      "Analytical Solution:\n",
      "the intercept (b0): 0.024525025871305006\n",
      "the coefficent (b1): 1.9340058850010584\n",
      "______________________________\n",
      "Numerical Solution:\n",
      "B0: 0.02509554416455422\n",
      "B1: 1.9336524140879394\n",
      "error: 6.939136607314112\n",
      "______________________________\n",
      "Difference between B0 for analytical and numerical: -0.0005705182932492121\n",
      "Difference between B1 for analytical and numerical: 0.0003534709131189917\n",
      "______________________________\n",
      "Therefore, I can conclude I get similar estimates for of the coefficent\n",
      "and intercept using both the analytical and numerical solution.\n"
     ]
    }
   ],
   "source": [
    "print(\"Analytical Solution:\")\n",
    "print(f\"the intercept (b0): {b0}\")\n",
    "print(f\"the coefficent (b1): {b1}\")\n",
    "print(\"______________________________\")\n",
    "print(\"Numerical Solution:\")\n",
    "print(f\"B0: {vecb[\"B0\"]}\\nB1: {vecb[\"B1\"]}\")\n",
    "print(f\"error: {error}\")\n",
    "print(\"______________________________\")\n",
    "print(f\"Difference between B0 for analytical and numerical: {b0-vecb[\"B0\"]}\\nDifference between B1 for analytical and numerical: {b1-vecb[\"B1\"]}\")\n",
    "print(\"______________________________\")\n",
    "print(\"Therefore, I can conclude I get similar estimates for of the coefficent\\nand intercept using both the analytical and numerical solution.\")\n"
   ]
  }
 ],
 "metadata": {
  "kernelspec": {
   "display_name": "machinelearning",
   "language": "python",
   "name": "python3"
  },
  "language_info": {
   "codemirror_mode": {
    "name": "ipython",
    "version": 3
   },
   "file_extension": ".py",
   "mimetype": "text/x-python",
   "name": "python",
   "nbconvert_exporter": "python",
   "pygments_lexer": "ipython3",
   "version": "3.12.3"
  }
 },
 "nbformat": 4,
 "nbformat_minor": 5
}
